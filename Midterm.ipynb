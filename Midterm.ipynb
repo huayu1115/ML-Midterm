{
 "cells": [
  {
   "attachments": {},
   "cell_type": "markdown",
   "metadata": {},
   "source": [
    "## **Spaceship Titanic**"
   ]
  },
  {
   "attachments": {},
   "cell_type": "markdown",
   "metadata": {},
   "source": [
    "##### **比賽簡介**"
   ]
  },
  {
   "attachments": {},
   "cell_type": "markdown",
   "metadata": {},
   "source": [
    "有將近 13,000 名乘客搭乘 Titanic 太空船，準備要從太陽系移居到圍繞附近恆星運行的三個系外行星。但在旅程途中，Titanic 不小心與隱藏在宇宙塵埃中的時空異常相撞，幾乎一半的乘客都被傳送到了異次元。因此，我們需要從太空船系統中恢復的記錄來預測哪些乘客被異常運送，幫助救援人員和找回失踪的乘客。"
   ]
  },
  {
   "attachments": {},
   "cell_type": "markdown",
   "metadata": {},
   "source": [
    "##### **為什麼選擇這個比賽**"
   ]
  },
  {
   "attachments": {},
   "cell_type": "markdown",
   "metadata": {},
   "source": [
    "選擇這個比賽最主要的原因是因為與最近上課的內容比較相似，能在做這份報告的同時，重新複習課堂內容一遍，不僅可以找出不熟悉的地方，也能夠加深印象，且因為已經有一些基礎，在後續提升準確度這塊也比較好發揮。"
   ]
  },
  {
   "attachments": {},
   "cell_type": "markdown",
   "metadata": {},
   "source": [
    "##### **資料集、目標介紹**"
   ]
  },
  {
   "attachments": {},
   "cell_type": "markdown",
   "metadata": {},
   "source": [
    "整個資料集被分為兩個部分。訓練資料集大約佔全部的三分之二，而測試資料集則佔了三分之一，並包含了14個不同的欄位。  "
   ]
  },
  {
   "attachments": {},
   "cell_type": "markdown",
   "metadata": {},
   "source": [
    "PassengerId - 每個乘客的ID不重複，且採用以下形式 gggg_pp  \n",
    "HomePlanet - 乘客離開的星球，通常是他們永久居住的星球  \n",
    "CryoSleep - 表明乘客是否選擇在航行期間處於假死狀態，冷凍睡眠中的乘客被限制在他們的船艙內  \n",
    "Cabin - 旅客下榻的艙位號，採取的形式 deck/num/side  \n",
    "Destination - 乘客將登陸的星球  \n",
    "Age - 乘客的年齡  \n",
    "VIP - 旅客是否在航程中支付了特殊貴賓服務費用  \n",
    "RoomService, FoodCourt, ShoppingMall, Spa, VRDeck - 乘客在太空船中每一項設施所支付的費用  \n",
    "Name - 乘客的名字和姓氏  \n",
    "Transported - 乘客是否被傳送到另一個維度，也是我們要預測的目標  "
   ]
  },
  {
   "attachments": {},
   "cell_type": "markdown",
   "metadata": {},
   "source": [
    "## **實作部分**"
   ]
  },
  {
   "attachments": {},
   "cell_type": "markdown",
   "metadata": {},
   "source": [
    "### **Train**"
   ]
  },
  {
   "attachments": {},
   "cell_type": "markdown",
   "metadata": {},
   "source": [
    "#### **import**"
   ]
  },
  {
   "attachments": {},
   "cell_type": "markdown",
   "metadata": {},
   "source": [
    "import modules"
   ]
  },
  {
   "cell_type": "code",
   "execution_count": 1,
   "metadata": {},
   "outputs": [],
   "source": [
    "import pandas as pd\n",
    "import numpy as np\n",
    "import matplotlib.pyplot as plt\n",
    "import seaborn as sns"
   ]
  },
  {
   "attachments": {},
   "cell_type": "markdown",
   "metadata": {},
   "source": [
    "import dataset and observe dataset"
   ]
  },
  {
   "cell_type": "code",
   "execution_count": 2,
   "metadata": {},
   "outputs": [
    {
     "data": {
      "text/html": [
       "<div>\n",
       "<style scoped>\n",
       "    .dataframe tbody tr th:only-of-type {\n",
       "        vertical-align: middle;\n",
       "    }\n",
       "\n",
       "    .dataframe tbody tr th {\n",
       "        vertical-align: top;\n",
       "    }\n",
       "\n",
       "    .dataframe thead th {\n",
       "        text-align: right;\n",
       "    }\n",
       "</style>\n",
       "<table border=\"1\" class=\"dataframe\">\n",
       "  <thead>\n",
       "    <tr style=\"text-align: right;\">\n",
       "      <th></th>\n",
       "      <th>PassengerId</th>\n",
       "      <th>HomePlanet</th>\n",
       "      <th>CryoSleep</th>\n",
       "      <th>Cabin</th>\n",
       "      <th>Destination</th>\n",
       "      <th>Age</th>\n",
       "      <th>VIP</th>\n",
       "      <th>RoomService</th>\n",
       "      <th>FoodCourt</th>\n",
       "      <th>ShoppingMall</th>\n",
       "      <th>Spa</th>\n",
       "      <th>VRDeck</th>\n",
       "      <th>Name</th>\n",
       "      <th>Transported</th>\n",
       "    </tr>\n",
       "  </thead>\n",
       "  <tbody>\n",
       "    <tr>\n",
       "      <th>0</th>\n",
       "      <td>0001_01</td>\n",
       "      <td>Europa</td>\n",
       "      <td>False</td>\n",
       "      <td>B/0/P</td>\n",
       "      <td>TRAPPIST-1e</td>\n",
       "      <td>39.0</td>\n",
       "      <td>False</td>\n",
       "      <td>0.0</td>\n",
       "      <td>0.0</td>\n",
       "      <td>0.0</td>\n",
       "      <td>0.0</td>\n",
       "      <td>0.0</td>\n",
       "      <td>Maham Ofracculy</td>\n",
       "      <td>False</td>\n",
       "    </tr>\n",
       "    <tr>\n",
       "      <th>1</th>\n",
       "      <td>0002_01</td>\n",
       "      <td>Earth</td>\n",
       "      <td>False</td>\n",
       "      <td>F/0/S</td>\n",
       "      <td>TRAPPIST-1e</td>\n",
       "      <td>24.0</td>\n",
       "      <td>False</td>\n",
       "      <td>109.0</td>\n",
       "      <td>9.0</td>\n",
       "      <td>25.0</td>\n",
       "      <td>549.0</td>\n",
       "      <td>44.0</td>\n",
       "      <td>Juanna Vines</td>\n",
       "      <td>True</td>\n",
       "    </tr>\n",
       "    <tr>\n",
       "      <th>2</th>\n",
       "      <td>0003_01</td>\n",
       "      <td>Europa</td>\n",
       "      <td>False</td>\n",
       "      <td>A/0/S</td>\n",
       "      <td>TRAPPIST-1e</td>\n",
       "      <td>58.0</td>\n",
       "      <td>True</td>\n",
       "      <td>43.0</td>\n",
       "      <td>3576.0</td>\n",
       "      <td>0.0</td>\n",
       "      <td>6715.0</td>\n",
       "      <td>49.0</td>\n",
       "      <td>Altark Susent</td>\n",
       "      <td>False</td>\n",
       "    </tr>\n",
       "    <tr>\n",
       "      <th>3</th>\n",
       "      <td>0003_02</td>\n",
       "      <td>Europa</td>\n",
       "      <td>False</td>\n",
       "      <td>A/0/S</td>\n",
       "      <td>TRAPPIST-1e</td>\n",
       "      <td>33.0</td>\n",
       "      <td>False</td>\n",
       "      <td>0.0</td>\n",
       "      <td>1283.0</td>\n",
       "      <td>371.0</td>\n",
       "      <td>3329.0</td>\n",
       "      <td>193.0</td>\n",
       "      <td>Solam Susent</td>\n",
       "      <td>False</td>\n",
       "    </tr>\n",
       "    <tr>\n",
       "      <th>4</th>\n",
       "      <td>0004_01</td>\n",
       "      <td>Earth</td>\n",
       "      <td>False</td>\n",
       "      <td>F/1/S</td>\n",
       "      <td>TRAPPIST-1e</td>\n",
       "      <td>16.0</td>\n",
       "      <td>False</td>\n",
       "      <td>303.0</td>\n",
       "      <td>70.0</td>\n",
       "      <td>151.0</td>\n",
       "      <td>565.0</td>\n",
       "      <td>2.0</td>\n",
       "      <td>Willy Santantines</td>\n",
       "      <td>True</td>\n",
       "    </tr>\n",
       "  </tbody>\n",
       "</table>\n",
       "</div>"
      ],
      "text/plain": [
       "  PassengerId HomePlanet CryoSleep  Cabin  Destination   Age    VIP  \\\n",
       "0     0001_01     Europa     False  B/0/P  TRAPPIST-1e  39.0  False   \n",
       "1     0002_01      Earth     False  F/0/S  TRAPPIST-1e  24.0  False   \n",
       "2     0003_01     Europa     False  A/0/S  TRAPPIST-1e  58.0   True   \n",
       "3     0003_02     Europa     False  A/0/S  TRAPPIST-1e  33.0  False   \n",
       "4     0004_01      Earth     False  F/1/S  TRAPPIST-1e  16.0  False   \n",
       "\n",
       "   RoomService  FoodCourt  ShoppingMall     Spa  VRDeck               Name  \\\n",
       "0          0.0        0.0           0.0     0.0     0.0    Maham Ofracculy   \n",
       "1        109.0        9.0          25.0   549.0    44.0       Juanna Vines   \n",
       "2         43.0     3576.0           0.0  6715.0    49.0      Altark Susent   \n",
       "3          0.0     1283.0         371.0  3329.0   193.0       Solam Susent   \n",
       "4        303.0       70.0         151.0   565.0     2.0  Willy Santantines   \n",
       "\n",
       "   Transported  \n",
       "0        False  \n",
       "1         True  \n",
       "2        False  \n",
       "3        False  \n",
       "4         True  "
      ]
     },
     "execution_count": 2,
     "metadata": {},
     "output_type": "execute_result"
    }
   ],
   "source": [
    "df = pd.read_csv(\"train.csv\")\n",
    "df.head()"
   ]
  },
  {
   "attachments": {},
   "cell_type": "markdown",
   "metadata": {},
   "source": [
    "#### **觀察資料**"
   ]
  },
  {
   "attachments": {},
   "cell_type": "markdown",
   "metadata": {},
   "source": [
    "將數值型資料按照結果是否會Transported分類並取平均  \n",
    "差異較大的欄位 : RoomService, FoodCourt, Spa, VRDeck"
   ]
  },
    {
     "data": {
      "text/html": [
       "<div>\n",
       "<style scoped>\n",
       "    .dataframe tbody tr th:only-of-type {\n",
       "        vertical-align: middle;\n",
       "    }\n",
       "\n",
       "    .dataframe tbody tr th {\n",
       "        vertical-align: top;\n",
       "    }\n",
       "\n",
       "    .dataframe thead th {\n",
       "        text-align: right;\n",
       "    }\n",
       "</style>\n",
       "<table border=\"1\" class=\"dataframe\">\n",
       "  <thead>\n",
       "    <tr style=\"text-align: right;\">\n",
       "      <th></th>\n",
       "      <th>Age</th>\n",
       "      <th>RoomService</th>\n",
       "      <th>FoodCourt</th>\n",
       "      <th>ShoppingMall</th>\n",
       "      <th>Spa</th>\n",
       "      <th>VRDeck</th>\n",
       "    </tr>\n",
       "    <tr>\n",
       "      <th>Transported</th>\n",
       "      <th></th>\n",
       "      <th></th>\n",
       "      <th></th>\n",
       "      <th></th>\n",
       "      <th></th>\n",
       "      <th></th>\n",
       "    </tr>\n",
       "  </thead>\n",
       "  <tbody>\n",
       "    <tr>\n",
       "      <th>False</th>\n",
       "      <td>29.922858</td>\n",
       "      <td>389.266066</td>\n",
       "      <td>382.615930</td>\n",
       "      <td>167.566217</td>\n",
       "      <td>564.382666</td>\n",
       "      <td>543.629822</td>\n",
       "    </tr>\n",
       "    <tr>\n",
       "      <th>True</th>\n",
       "      <td>27.748834</td>\n",
       "      <td>63.098021</td>\n",
       "      <td>532.691984</td>\n",
       "      <td>179.829972</td>\n",
       "      <td>61.675531</td>\n",
       "      <td>69.148131</td>\n",
       "    </tr>\n",
       "  </tbody>\n",
       "</table>\n",
       "</div>"
      ],
      "text/plain": [
       "                   Age  RoomService   FoodCourt  ShoppingMall         Spa  \\\n",
       "Transported                                                                 \n",
       "False        29.922858   389.266066  382.615930    167.566217  564.382666   \n",
       "True         27.748834    63.098021  532.691984    179.829972   61.675531   \n",
       "\n",
       "                 VRDeck  \n",
       "Transported              \n",
       "False        543.629822  \n",
       "True          69.148131  "
      ]
     },
     "execution_count": 3,
     "metadata": {},
     "output_type": "execute_result"
    }
   ],
   "source": [
    "df.groupby('Transported').mean()"
   ]
  },
  {
   "attachments": {},
   "cell_type": "markdown",
   "metadata": {},
   "source": [
    "利用pairplot圖像化，查看欄位內資料與結果的關係，保留差異較大的四組"
   ]
  },
  {
   "cell_type": "code",
   "execution_count": 4,
   "metadata": {},
   "outputs": [
    {
     "name": "stderr",
     "output_type": "stream",
     "text": [
      "<__array_function__ internals>:200: RuntimeWarning: Converting input from bool to <class 'numpy.uint8'> for compatibility.\n"
     ]
    },
    {
     "data": {
      "text/plain": [
       "<seaborn.axisgrid.PairGrid at 0x1c9853913d0>"
      ]
     },
     "execution_count": 4,
     "metadata": {},
     "output_type": "execute_result"
    },
    {
     "data": {
      "image/png": "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",
      "text/plain": [
       "<Figure size 500x500 with 6 Axes>"
      ]
     },
     "metadata": {},
     "output_type": "display_data"
    }
   ],
   "source": [
    "sns.pairplot(df[['Transported','RoomService']],dropna=True)"
   ]
  },
  {
   "cell_type": "code",
   "execution_count": 5,
   "metadata": {},
   "outputs": [
    {
     "name": "stderr",
     "output_type": "stream",
     "text": [
      "<__array_function__ internals>:200: RuntimeWarning: Converting input from bool to <class 'numpy.uint8'> for compatibility.\n"
     ]
    },
    {
     "data": {
      "text/plain": [
       "<seaborn.axisgrid.PairGrid at 0x1c98539b310>"
      ]
     },
     "execution_count": 5,
     "metadata": {},
     "output_type": "execute_result"
    },
    {
     "data": {
      "image/png": "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",
      "text/plain": [
       "<Figure size 500x500 with 6 Axes>"
      ]
     },
     "metadata": {},
     "output_type": "display_data"
    }
   ],
   "source": [
    "sns.pairplot(df[['Transported','FoodCourt']],dropna=True)"
   ]
  },
  {
   "cell_type": "code",
   "execution_count": 6,
   "metadata": {},
   "outputs": [
    {
     "name": "stderr",
     "output_type": "stream",
     "text": [
      "<__array_function__ internals>:200: RuntimeWarning: Converting input from bool to <class 'numpy.uint8'> for compatibility.\n"
     ]
    },
    {
     "data": {
      "text/plain": [
       "<seaborn.axisgrid.PairGrid at 0x1c9a6224040>"
      ]
     },
     "execution_count": 6,
     "metadata": {},
     "output_type": "execute_result"
    },
    {
     "data": {
      "image/png": "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",
      "text/plain": [
       "<Figure size 500x500 with 6 Axes>"
      ]
     },
     "metadata": {},
     "output_type": "display_data"
    }
   ],
   "source": [
    "sns.pairplot(df[['Transported','Spa']],dropna=True)"
   ]
  },
  {
   "cell_type": "code",
   "execution_count": 7,
   "metadata": {},
   "outputs": [
    {
     "name": "stderr",
     "output_type": "stream",
     "text": [
      "<__array_function__ internals>:200: RuntimeWarning: Converting input from bool to <class 'numpy.uint8'> for compatibility.\n"
     ]
    },
    {
     "data": {
      "text/plain": [
       "<seaborn.axisgrid.PairGrid at 0x1c9ae180a60>"
      ]
     },
     "execution_count": 7,
     "metadata": {},
     "output_type": "execute_result"
    },
    {
     "data": {
      "image/png": "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",
      "text/plain": [
       "<Figure size 500x500 with 6 Axes>"
      ]
     },
     "metadata": {},
     "output_type": "display_data"
    }
   ],
   "source": [
    "sns.pairplot(df[['Transported','VRDeck']],dropna=True)"
   ]
  },
  {
   "attachments": {},
   "cell_type": "markdown",
   "metadata": {},
   "source": [
    "觀察分類變量的比例"
   ]
  },
  {
   "cell_type": "code",
   "execution_count": 8,
   "metadata": {},
   "outputs": [
    {
     "data": {
      "text/plain": [
       "Earth     4602\n",
       "Europa    2131\n",
       "Mars      1759\n",
       "Name: HomePlanet, dtype: int64"
      ]
     },
     "execution_count": 8,
     "metadata": {},
     "output_type": "execute_result"
    }
   ],
   "source": [
    "df['HomePlanet'].value_counts()"
   ]
  },
  {
   "cell_type": "code",
   "execution_count": 9,
   "metadata": {},
   "outputs": [
    {
     "data": {
      "text/plain": [
       "False    5439\n",
       "True     3037\n",
       "Name: CryoSleep, dtype: int64"
      ]
     },
     "execution_count": 9,
     "metadata": {},
     "output_type": "execute_result"
    }
   ],
   "source": [
    "df['CryoSleep'].value_counts()"
   ]
  },
  {
   "cell_type": "code",
   "execution_count": 10,
   "metadata": {},
   "outputs": [
    {
     "data": {
      "text/plain": [
       "TRAPPIST-1e      5915\n",
       "55 Cancri e      1800\n",
       "PSO J318.5-22     796\n",
       "Name: Destination, dtype: int64"
      ]
     },
     "execution_count": 10,
     "metadata": {},
     "output_type": "execute_result"
    }
   ],
   "source": [
    "df['Destination'].value_counts()"
   ]
  },
  {
   "cell_type": "code",
   "execution_count": 11,
   "metadata": {},
   "outputs": [
    {
     "data": {
      "text/plain": [
       "False    8291\n",
       "True      199\n",
       "Name: VIP, dtype: int64"
      ]
     },
     "execution_count": 11,
     "metadata": {},
     "output_type": "execute_result"
    }
   ],
   "source": [
    "df['VIP'].value_counts()"
   ]
  },
  {
   "attachments": {},
   "cell_type": "markdown",
   "metadata": {},
   "source": [
    "#### **資料前處理**"
   ]
  },
  {
   "attachments": {},
   "cell_type": "markdown",
   "metadata": {},
   "source": [
    "因為training dataset與testing dataset需經過相同的前處理，因此這個步驟直接寫成函式"
   ]
  },
  {
   "attachments": {},
   "cell_type": "markdown",
   "metadata": {},
   "source": [
    "##### **(1) 拆分有用的資料**"
   ]
  },
  {
   "attachments": {},
   "cell_type": "markdown",
   "metadata": {},
   "source": [
    "因為我需要 Cabin 中的 Deck, Side 欄位，所以先將他們拆開"
   ]
  },
  {
   "cell_type": "code",
   "execution_count": 12,
   "metadata": {},
   "outputs": [],
   "source": [
    "def separate_info(df):\n",
    "    df[['Deck', 'Num', 'Side']] = df['Cabin'].str.split(\"/\", expand=True)\n",
    "    return (df)"
   ]
  },
  {
   "cell_type": "code",
   "execution_count": 13,
   "metadata": {},
   "outputs": [
    {
     "data": {
      "text/html": [
       "<div>\n",
       "<style scoped>\n",
       "    .dataframe tbody tr th:only-of-type {\n",
       "        vertical-align: middle;\n",
       "    }\n",
       "\n",
       "    .dataframe tbody tr th {\n",
       "        vertical-align: top;\n",
       "    }\n",
       "\n",
       "    .dataframe thead th {\n",
       "        text-align: right;\n",
       "    }\n",
       "</style>\n",
       "<table border=\"1\" class=\"dataframe\">\n",
       "  <thead>\n",
       "    <tr style=\"text-align: right;\">\n",
       "      <th></th>\n",
       "      <th>PassengerId</th>\n",
       "      <th>HomePlanet</th>\n",
       "      <th>CryoSleep</th>\n",
       "      <th>Cabin</th>\n",
       "      <th>Destination</th>\n",
       "      <th>Age</th>\n",
       "      <th>VIP</th>\n",
       "      <th>RoomService</th>\n",
       "      <th>FoodCourt</th>\n",
       "      <th>ShoppingMall</th>\n",
       "      <th>Spa</th>\n",
       "      <th>VRDeck</th>\n",
       "      <th>Name</th>\n",
       "      <th>Transported</th>\n",
       "      <th>Deck</th>\n",
       "      <th>Num</th>\n",
       "      <th>Side</th>\n",
       "    </tr>\n",
       "  </thead>\n",
       "  <tbody>\n",
       "    <tr>\n",
       "      <th>0</th>\n",
       "      <td>0001_01</td>\n",
       "      <td>Europa</td>\n",
       "      <td>False</td>\n",
       "      <td>B/0/P</td>\n",
       "      <td>TRAPPIST-1e</td>\n",
       "      <td>39.0</td>\n",
       "      <td>False</td>\n",
       "      <td>0.0</td>\n",
       "      <td>0.0</td>\n",
       "      <td>0.0</td>\n",
       "      <td>0.0</td>\n",
       "      <td>0.0</td>\n",
       "      <td>Maham Ofracculy</td>\n",
       "      <td>False</td>\n",
       "      <td>B</td>\n",
       "      <td>0</td>\n",
       "      <td>P</td>\n",
       "    </tr>\n",
       "    <tr>\n",
       "      <th>1</th>\n",
       "      <td>0002_01</td>\n",
       "      <td>Earth</td>\n",
       "      <td>False</td>\n",
       "      <td>F/0/S</td>\n",
       "      <td>TRAPPIST-1e</td>\n",
       "      <td>24.0</td>\n",
       "      <td>False</td>\n",
       "      <td>109.0</td>\n",
       "      <td>9.0</td>\n",
       "      <td>25.0</td>\n",
       "      <td>549.0</td>\n",
       "      <td>44.0</td>\n",
       "      <td>Juanna Vines</td>\n",
       "      <td>True</td>\n",
       "      <td>F</td>\n",
       "      <td>0</td>\n",
       "      <td>S</td>\n",
       "    </tr>\n",
       "    <tr>\n",
       "      <th>2</th>\n",
       "      <td>0003_01</td>\n",
       "      <td>Europa</td>\n",
       "      <td>False</td>\n",
       "      <td>A/0/S</td>\n",
       "      <td>TRAPPIST-1e</td>\n",
       "      <td>58.0</td>\n",
       "      <td>True</td>\n",
       "      <td>43.0</td>\n",
       "      <td>3576.0</td>\n",
       "      <td>0.0</td>\n",
       "      <td>6715.0</td>\n",
       "      <td>49.0</td>\n",
       "      <td>Altark Susent</td>\n",
       "      <td>False</td>\n",
       "      <td>A</td>\n",
       "      <td>0</td>\n",
       "      <td>S</td>\n",
       "    </tr>\n",
       "    <tr>\n",
       "      <th>3</th>\n",
       "      <td>0003_02</td>\n",
       "      <td>Europa</td>\n",
       "      <td>False</td>\n",
       "      <td>A/0/S</td>\n",
       "      <td>TRAPPIST-1e</td>\n",
       "      <td>33.0</td>\n",
       "      <td>False</td>\n",
       "      <td>0.0</td>\n",
       "      <td>1283.0</td>\n",
       "      <td>371.0</td>\n",
       "      <td>3329.0</td>\n",
       "      <td>193.0</td>\n",
       "      <td>Solam Susent</td>\n",
       "      <td>False</td>\n",
       "      <td>A</td>\n",
       "      <td>0</td>\n",
       "      <td>S</td>\n",
       "    </tr>\n",
       "    <tr>\n",
       "      <th>4</th>\n",
       "      <td>0004_01</td>\n",
       "      <td>Earth</td>\n",
       "      <td>False</td>\n",
       "      <td>F/1/S</td>\n",
       "      <td>TRAPPIST-1e</td>\n",
       "      <td>16.0</td>\n",
       "      <td>False</td>\n",
       "      <td>303.0</td>\n",
       "      <td>70.0</td>\n",
       "      <td>151.0</td>\n",
       "      <td>565.0</td>\n",
       "      <td>2.0</td>\n",
       "      <td>Willy Santantines</td>\n",
       "      <td>True</td>\n",
       "      <td>F</td>\n",
       "      <td>1</td>\n",
       "      <td>S</td>\n",
       "    </tr>\n",
       "    <tr>\n",
       "      <th>...</th>\n",
       "      <td>...</td>\n",
       "      <td>...</td>\n",
       "      <td>...</td>\n",
       "      <td>...</td>\n",
       "      <td>...</td>\n",
       "      <td>...</td>\n",
       "      <td>...</td>\n",
       "      <td>...</td>\n",
       "      <td>...</td>\n",
       "      <td>...</td>\n",
       "      <td>...</td>\n",
       "      <td>...</td>\n",
       "      <td>...</td>\n",
       "      <td>...</td>\n",
       "      <td>...</td>\n",
       "      <td>...</td>\n",
       "      <td>...</td>\n",
       "    </tr>\n",
       "    <tr>\n",
       "      <th>8688</th>\n",
       "      <td>9276_01</td>\n",
       "      <td>Europa</td>\n",
       "      <td>False</td>\n",
       "      <td>A/98/P</td>\n",
       "      <td>55 Cancri e</td>\n",
       "      <td>41.0</td>\n",
       "      <td>True</td>\n",
       "      <td>0.0</td>\n",
       "      <td>6819.0</td>\n",
       "      <td>0.0</td>\n",
       "      <td>1643.0</td>\n",
       "      <td>74.0</td>\n",
       "      <td>Gravior Noxnuther</td>\n",
       "      <td>False</td>\n",
       "      <td>A</td>\n",
       "      <td>98</td>\n",
       "      <td>P</td>\n",
       "    </tr>\n",
       "    <tr>\n",
       "      <th>8689</th>\n",
       "      <td>9278_01</td>\n",
       "      <td>Earth</td>\n",
       "      <td>True</td>\n",
       "      <td>G/1499/S</td>\n",
       "      <td>PSO J318.5-22</td>\n",
       "      <td>18.0</td>\n",
       "      <td>False</td>\n",
       "      <td>0.0</td>\n",
       "      <td>0.0</td>\n",
       "      <td>0.0</td>\n",
       "      <td>0.0</td>\n",
       "      <td>0.0</td>\n",
       "      <td>Kurta Mondalley</td>\n",
       "      <td>False</td>\n",
       "      <td>G</td>\n",
       "      <td>1499</td>\n",
       "      <td>S</td>\n",
       "    </tr>\n",
       "    <tr>\n",
       "      <th>8690</th>\n",
       "      <td>9279_01</td>\n",
       "      <td>Earth</td>\n",
       "      <td>False</td>\n",
       "      <td>G/1500/S</td>\n",
       "      <td>TRAPPIST-1e</td>\n",
       "      <td>26.0</td>\n",
       "      <td>False</td>\n",
       "      <td>0.0</td>\n",
       "      <td>0.0</td>\n",
       "      <td>1872.0</td>\n",
       "      <td>1.0</td>\n",
       "      <td>0.0</td>\n",
       "      <td>Fayey Connon</td>\n",
       "      <td>True</td>\n",
       "      <td>G</td>\n",
       "      <td>1500</td>\n",
       "      <td>S</td>\n",
       "    </tr>\n",
       "    <tr>\n",
       "      <th>8691</th>\n",
       "      <td>9280_01</td>\n",
       "      <td>Europa</td>\n",
       "      <td>False</td>\n",
       "      <td>E/608/S</td>\n",
       "      <td>55 Cancri e</td>\n",
       "      <td>32.0</td>\n",
       "      <td>False</td>\n",
       "      <td>0.0</td>\n",
       "      <td>1049.0</td>\n",
       "      <td>0.0</td>\n",
       "      <td>353.0</td>\n",
       "      <td>3235.0</td>\n",
       "      <td>Celeon Hontichre</td>\n",
       "      <td>False</td>\n",
       "      <td>E</td>\n",
       "      <td>608</td>\n",
       "      <td>S</td>\n",
       "    </tr>\n",
       "    <tr>\n",
       "      <th>8692</th>\n",
       "      <td>9280_02</td>\n",
       "      <td>Europa</td>\n",
       "      <td>False</td>\n",
       "      <td>E/608/S</td>\n",
       "      <td>TRAPPIST-1e</td>\n",
       "      <td>44.0</td>\n",
       "      <td>False</td>\n",
       "      <td>126.0</td>\n",
       "      <td>4688.0</td>\n",
       "      <td>0.0</td>\n",
       "      <td>0.0</td>\n",
       "      <td>12.0</td>\n",
       "      <td>Propsh Hontichre</td>\n",
       "      <td>True</td>\n",
       "      <td>E</td>\n",
       "      <td>608</td>\n",
       "      <td>S</td>\n",
       "    </tr>\n",
       "  </tbody>\n",
       "</table>\n",
       "<p>8693 rows × 17 columns</p>\n",
       "</div>"
      ],
      "text/plain": [
       "     PassengerId HomePlanet CryoSleep     Cabin    Destination   Age    VIP  \\\n",
       "0        0001_01     Europa     False     B/0/P    TRAPPIST-1e  39.0  False   \n",
       "1        0002_01      Earth     False     F/0/S    TRAPPIST-1e  24.0  False   \n",
       "2        0003_01     Europa     False     A/0/S    TRAPPIST-1e  58.0   True   \n",
       "3        0003_02     Europa     False     A/0/S    TRAPPIST-1e  33.0  False   \n",
       "4        0004_01      Earth     False     F/1/S    TRAPPIST-1e  16.0  False   \n",
       "...          ...        ...       ...       ...            ...   ...    ...   \n",
       "8688     9276_01     Europa     False    A/98/P    55 Cancri e  41.0   True   \n",
       "8689     9278_01      Earth      True  G/1499/S  PSO J318.5-22  18.0  False   \n",
       "8690     9279_01      Earth     False  G/1500/S    TRAPPIST-1e  26.0  False   \n",
       "8691     9280_01     Europa     False   E/608/S    55 Cancri e  32.0  False   \n",
       "8692     9280_02     Europa     False   E/608/S    TRAPPIST-1e  44.0  False   \n",
       "\n",
       "      RoomService  FoodCourt  ShoppingMall     Spa  VRDeck               Name  \\\n",
       "0             0.0        0.0           0.0     0.0     0.0    Maham Ofracculy   \n",
       "1           109.0        9.0          25.0   549.0    44.0       Juanna Vines   \n",
       "2            43.0     3576.0           0.0  6715.0    49.0      Altark Susent   \n",
       "3             0.0     1283.0         371.0  3329.0   193.0       Solam Susent   \n",
       "4           303.0       70.0         151.0   565.0     2.0  Willy Santantines   \n",
       "...           ...        ...           ...     ...     ...                ...   \n",
       "8688          0.0     6819.0           0.0  1643.0    74.0  Gravior Noxnuther   \n",
       "8689          0.0        0.0           0.0     0.0     0.0    Kurta Mondalley   \n",
       "8690          0.0        0.0        1872.0     1.0     0.0       Fayey Connon   \n",
       "8691          0.0     1049.0           0.0   353.0  3235.0   Celeon Hontichre   \n",
       "8692        126.0     4688.0           0.0     0.0    12.0   Propsh Hontichre   \n",
       "\n",
       "      Transported Deck   Num Side  \n",
       "0           False    B     0    P  \n",
       "1            True    F     0    S  \n",
       "2           False    A     0    S  \n",
       "3           False    A     0    S  \n",
       "4            True    F     1    S  \n",
       "...           ...  ...   ...  ...  \n",
       "8688        False    A    98    P  \n",
       "8689        False    G  1499    S  \n",
       "8690         True    G  1500    S  \n",
       "8691        False    E   608    S  \n",
       "8692         True    E   608    S  \n",
       "\n",
       "[8693 rows x 17 columns]"
      ]
     },
     "execution_count": 13,
     "metadata": {},
     "output_type": "execute_result"
    }
   ],
   "source": [
    "separate_info(df)"
   ]
  },
  {
   "attachments": {},
   "cell_type": "markdown",
   "metadata": {},
   "source": [
    "##### **(2) 刪除不需要的欄位**"
   ]
  },
  {
   "attachments": {},
   "cell_type": "markdown",
   "metadata": {},
   "source": [
    "不會用來訓練模型的欄位 : PassengerId, Cabin, Name 以及從 Cabin 拆分出來的 Num  \n",
    "輸出需要PassengerId所以保留，其他三個欄位直接刪除  "
   ]
  },
  {
   "cell_type": "code",
   "execution_count": 14,
   "metadata": {},
   "outputs": [],
   "source": [
    "def drop_columns(df):\n",
    "    df.drop(['Cabin','Num', 'Name'],axis=1,inplace=True)"
   ]
  },
  {
   "cell_type": "code",
   "execution_count": 15,
   "metadata": {},
   "outputs": [],
   "source": [
    "drop_columns(df)"
   ]
  },
  {
   "attachments": {},
   "cell_type": "markdown",
   "metadata": {},
   "source": [
    "##### **(3) 填補資料空缺**"
   ]
  },
  {
   "attachments": {},
   "cell_type": "markdown",
   "metadata": {},
   "source": [
    "觀察哪些欄位具有空缺"
   ]
  },
  {
   "cell_type": "code",
   "execution_count": 16,
   "metadata": {},
   "outputs": [
    {
     "data": {
      "text/plain": [
       "PassengerId       0\n",
       "HomePlanet      201\n",
       "CryoSleep       217\n",
       "Destination     182\n",
       "Age             179\n",
       "VIP             203\n",
       "RoomService     181\n",
       "FoodCourt       183\n",
       "ShoppingMall    208\n",
       "Spa             183\n",
       "VRDeck          188\n",
       "Transported       0\n",
       "Deck            199\n",
       "Side            199\n",
       "dtype: int64"
      ]
     },
     "execution_count": 16,
     "metadata": {},
     "output_type": "execute_result"
    }
   ],
   "source": [
    "df.isnull().sum()"
   ]
  },
  {
   "attachments": {},
   "cell_type": "markdown",
   "metadata": {},
   "source": [
    "數值型資料以中位數填補，其他資料以最多的填補  "
   ]
  },
  {
   "cell_type": "code",
   "execution_count": 17,
   "metadata": {},
   "outputs": [],
   "source": [
    "def fill_vacancy(df):\n",
    "    df['HomePlanet'].fillna(df['HomePlanet'].value_counts().idxmax(),inplace=True)\n",
    "    df['CryoSleep'].fillna(df['CryoSleep'].value_counts().idxmax(),inplace=True)\n",
    "    df['Destination'].fillna(df['Destination'].value_counts().idxmax(),inplace=True)\n",
    "    df['Age'].fillna(df['Age'].median(),inplace=True)\n",
    "    df['VIP'].fillna(df['VIP'].value_counts().idxmax(),inplace=True)\n",
    "    df['RoomService'].fillna(df['RoomService'].median(),inplace=True)\n",
    "    df['FoodCourt'].fillna(df['FoodCourt'].median(),inplace=True)\n",
    "    df['ShoppingMall'].fillna(df['ShoppingMall'].median(),inplace=True)\n",
    "    df['Spa'].fillna(df['Spa'].median(),inplace=True)\n",
    "    df['VRDeck'].fillna(df['VRDeck'].median(),inplace=True)\n",
    "    df['Deck'].fillna(df['Deck'].value_counts().idxmax(),inplace=True)\n",
    "    df['Side'].fillna(df['Side'].value_counts().idxmax(),inplace=True)"
   ]
  },
  {
   "cell_type": "code",
   "execution_count": 18,
   "metadata": {},
   "outputs": [],
   "source": [
    "fill_vacancy(df)"
   ]
  },
  {
   "attachments": {},
   "cell_type": "markdown",
   "metadata": {},
   "source": [
    "##### **(4) 將分類變量轉換為數值變量**"
   ]
  },
  {
   "attachments": {},
   "cell_type": "markdown",
   "metadata": {},
   "source": [
    "利用get_dummies將分類變量轉為數值變量  \n",
    "需要轉換的欄位 : HomePlanet, CryoSleep, Destination, VIP"
   ]
  },
  {
   "cell_type": "code",
   "execution_count": 19,
   "metadata": {},
   "outputs": [],
   "source": [
    "def dummies(df):\n",
    "    df = pd.get_dummies(data = df,columns=['HomePlanet','CryoSleep','Destination','VIP'])\n",
    "    df = pd.get_dummies(data = df,columns=['Deck','Side'])\n",
    "    df.drop('CryoSleep_False',axis=1,inplace=True)\n",
    "    df.drop('VIP_False',axis=1,inplace=True)\n",
    "    df.drop('Side_S',axis=1,inplace=True)\n",
    "    return (df)"
   ]
  },
  {
   "cell_type": "code",
   "execution_count": 20,
   "metadata": {},
   "outputs": [],
   "source": [
    "df = dummies(df)"
   ]
  },
  {
   "attachments": {},
   "cell_type": "markdown",
   "metadata": {},
   "source": [
    "#### **訓練模型並評估結果**"
   ]
  },
  {
   "attachments": {},
   "cell_type": "markdown",
   "metadata": {},
   "source": [
    "將資料分為兩個部分 : X 為要輸入至模型的資料、y 為正確答案"
   ]
  },
  {
   "cell_type": "code",
   "execution_count": 21,
   "metadata": {},
   "outputs": [],
   "source": [
    "X=df.drop(['Transported'],axis=1)\n",
    "y=df['Transported']"
   ]
  },
  {
   "attachments": {},
   "cell_type": "markdown",
   "metadata": {},
   "source": [
    "split to training data & testing data "
   ]
  },
  {
   "cell_type": "code",
   "execution_count": 22,
   "metadata": {},
   "outputs": [],
   "source": [
    "from sklearn.model_selection import train_test_split\n",
    "X_train,X_test,y_train,y_test=train_test_split(X,y,test_size=0.3,random_state=67)"
   ]
  },
  {
   "attachments": {},
   "cell_type": "markdown",
   "metadata": {},
   "source": [
    "using Logistic regression model"
   ]
  },
  {
   "cell_type": "code",
   "execution_count": 23,
   "metadata": {},
   "outputs": [],
   "source": [
    "from sklearn.linear_model import LogisticRegression\n",
    "lr=LogisticRegression(max_iter=200)\n",
    "lr.fit(X_train,y_train)\n",
    "predictions=lr.predict(X_test)"
   ]
  },
  {
   "attachments": {},
   "cell_type": "markdown",
   "metadata": {},
   "source": [
    "Evaluate "
   ]
  },
  {
   "cell_type": "code",
   "execution_count": 24,
   "metadata": {},
   "outputs": [
    {
     "data": {
      "text/html": [
       "<div>\n",
       "<style scoped>\n",
       "    .dataframe tbody tr th:only-of-type {\n",
       "        vertical-align: middle;\n",
       "    }\n",
       "\n",
       "    .dataframe tbody tr th {\n",
       "        vertical-align: top;\n",
       "    }\n",
       "\n",
       "    .dataframe thead th {\n",
       "        text-align: right;\n",
       "    }\n",
       "</style>\n",
       "<table border=\"1\" class=\"dataframe\">\n",
       "  <thead>\n",
       "    <tr style=\"text-align: right;\">\n",
       "      <th></th>\n",
       "      <th>Predict not Transported</th>\n",
       "      <th>Predict Transported</th>\n",
       "    </tr>\n",
       "  </thead>\n",
       "  <tbody>\n",
       "    <tr>\n",
       "      <th>True not Transported</th>\n",
       "      <td>858</td>\n",
       "      <td>438</td>\n",
       "    </tr>\n",
       "    <tr>\n",
       "      <th>True Transported</th>\n",
       "      <td>133</td>\n",
       "      <td>1179</td>\n",
       "    </tr>\n",
       "  </tbody>\n",
       "</table>\n",
       "</div>"
      ],
      "text/plain": [
       "                      Predict not Transported  Predict Transported\n",
       "True not Transported                      858                  438\n",
       "True Transported                          133                 1179"
      ]
     },
     "execution_count": 24,
     "metadata": {},
     "output_type": "execute_result"
    }
   ],
   "source": [
    "from sklearn.metrics import confusion_matrix, accuracy_score, recall_score, precision_score\n",
    "accuracy_score(y_test,predictions)\n",
    "recall_score(y_test,predictions)\n",
    "precision_score(y_test,predictions)\n",
    "pd.DataFrame(confusion_matrix(y_test,predictions),columns=['Predict not Transported', 'Predict Transported'],index=['True not Transported','True Transported'])"
   ]
  },
  {
   "attachments": {},
   "cell_type": "markdown",
   "metadata": {},
   "source": [
    "把模型輸出成檔案"
   ]
  },
  {
   "cell_type": "code",
   "execution_count": 25,
   "metadata": {},
   "outputs": [
    {
     "data": {
      "text/plain": [
       "['submission.pkl']"
      ]
     },
     "execution_count": 25,
     "metadata": {},
     "output_type": "execute_result"
    }
   ],
   "source": [
    "import joblib\n",
    "joblib.dump(lr,'submission.pkl',compress=3)"
   ]
  },
  {
   "attachments": {},
   "cell_type": "markdown",
   "metadata": {},
   "source": [
    "### **Test**"
   ]
  },
  {
   "attachments": {},
   "cell_type": "markdown",
   "metadata": {},
   "source": [
    "#### **import**"
   ]
  },
  {
   "attachments": {},
   "cell_type": "markdown",
   "metadata": {},
   "source": [
    "import pretrained model"
   ]
  },
  {
   "cell_type": "code",
   "execution_count": 26,
   "metadata": {},
   "outputs": [],
   "source": [
    "model_pretrained = joblib.load('submission.pkl')"
   ]
  },
  {
   "attachments": {},
   "cell_type": "markdown",
   "metadata": {},
   "source": [
    "import testing dataset"
   ]
  },
  {
   "cell_type": "code",
   "execution_count": 27,
   "metadata": {},
   "outputs": [],
   "source": [
    "df_test = pd.read_csv('test.csv')"
   ]
  },
  {
   "attachments": {},
   "cell_type": "markdown",
   "metadata": {},
   "source": [
    "#### **資料前處理**"
   ]
  },
  {
   "attachments": {},
   "cell_type": "markdown",
   "metadata": {},
   "source": [
    "拆分有用的資料、刪除不需要的欄位、填補資料空缺、將分類變量轉為數值變量"
   ]
  },
  {
   "cell_type": "code",
   "execution_count": 28,
   "metadata": {},
   "outputs": [],
   "source": [
    "separate_info(df_test)\n",
    "drop_columns(df_test)\n",
    "fill_vacancy(df_test)\n",
    "df_test = dummies(df_test)"
   ]
  },
  {
   "attachments": {},
   "cell_type": "markdown",
   "metadata": {},
   "source": [
    "#### **產生結果**"
   ]
  },
  {
   "attachments": {},
   "cell_type": "markdown",
   "metadata": {},
   "source": [
    "將資料放入模型"
   ]
  },
  {
   "cell_type": "code",
   "execution_count": 29,
   "metadata": {},
   "outputs": [],
   "source": [
    "predictions2 = model_pretrained.predict(df_test)"
   ]
  },
  {
   "attachments": {},
   "cell_type": "markdown",
   "metadata": {},
   "source": [
    "Prepare submit file"
   ]
  },
  {
   "cell_type": "code",
   "execution_count": 30,
   "metadata": {},
   "outputs": [],
   "source": [
    "forSubmissionDF=pd.DataFrame(columns=['PassengerId','Transported'])\n",
    "forSubmissionDF['PassengerId'] = df_test['PassengerId']\n",
    "forSubmissionDF['Transported'] = predictions2\n",
    "forSubmissionDF\n",
    "forSubmissionDF.to_csv('submission.csv', index=False)"
   ]
  },
  {
   "attachments": {},
   "cell_type": "markdown",
   "metadata": {},
   "source": [
    "## **比賽結果**"
   ]
  },
  {
   "attachments": {},
   "cell_type": "markdown",
   "metadata": {},
   "source": [
    "##### **比賽結果說明**"
   ]
  },
  {
   "attachments": {},
   "cell_type": "markdown",
   "metadata": {},
   "source": [
    "在不看答案的情況下，經過不同的嘗試，準確率最高只有 0.787，後來有參考 kaggle 上其他人的方法，將訓練資料中的缺失值刪除，準確率稍微提升至 0.7877。"
   ]
  },
  {
   "attachments": {},
   "cell_type": "markdown",
   "metadata": {},
   "source": [
    "##### **推測還可以從哪些部分改善**"
   ]
  },
  {
   "attachments": {},
   "cell_type": "markdown",
   "metadata": {},
   "source": [
    "因為嘗試了不同的方法準確率都沒有提升，因此去kaggle上看其他人的分享，其中有看到一個人準確率達到了 0.94，他的做法是把ID拆分成兩個部分並加入了模型訓練中，且因為缺失的資料不多，他沒有選擇將資料填補進去，而是直接把缺失的資料全部丟掉。雖然樣本數減少了，但也不會有雜訊產生，是個不錯的選擇。"
   ]
  },
  {
   "attachments": {},
   "cell_type": "markdown",
   "metadata": {},
   "source": [
    "##### **不同的嘗試與結果分析**"
   ]
  },
  {
   "attachments": {},
   "cell_type": "markdown",
   "metadata": {},
   "source": [
    " (1) 將除了 PassengerId, Cabin, Name 以外的所有資料都拿去訓練模型，準確率為 0.787，可以作為後續的比較基準。"
   ]
  },
  {
   "attachments": {},
   "cell_type": "markdown",
   "metadata": {},
   "source": [
    "(2) 把差異較小的 Age 和 ShoppingMall 刪除，準確率降至 0.78，這次嘗試準確率沒有提升我覺得蠻奇怪的，因為好像沒有其他可以調整的地方了，所以在想會不會是把需要的資料刪掉了，那只有可能是Cabin了，且kaggle也有特別為這個欄位進行說明。"
   ]
  },
  {
   "attachments": {},
   "cell_type": "markdown",
   "metadata": {},
   "source": [
    "(3) 把 Cabin 的 Deck 和 Side 分別拆出來，加上第一次嘗試的所有資料，準確率還是維持在 0.787 沒有提升。"
   ]
  },
  {
   "attachments": {},
   "cell_type": "markdown",
   "metadata": {},
   "source": [
    "(4) 最後有嘗試使用與第三次相同的資料，直接把缺失的資料全部丟掉，準確率為 0.7877。"
   ]
  }
 ],
 "metadata": {
  "kernelspec": {
   "display_name": "Python 3",
   "language": "python",
   "name": "python3"
  },
  "language_info": {
   "codemirror_mode": {
    "name": "ipython",
    "version": 3
   },
   "file_extension": ".py",
   "mimetype": "text/x-python",
   "name": "python",
   "nbconvert_exporter": "python",
   "pygments_lexer": "ipython3",
   "version": "3.9.13"
  },
  "orig_nbformat": 4
 },
 "nbformat": 4,
 "nbformat_minor": 2
}
